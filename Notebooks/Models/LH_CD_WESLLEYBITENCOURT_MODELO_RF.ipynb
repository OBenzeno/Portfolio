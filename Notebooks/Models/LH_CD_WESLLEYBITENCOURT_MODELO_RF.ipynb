{
  "nbformat": 4,
  "nbformat_minor": 0,
  "metadata": {
    "colab": {
      "provenance": []
    },
    "kernelspec": {
      "name": "python3",
      "display_name": "Python 3"
    },
    "language_info": {
      "name": "python"
    }
  },
  "cells": [
    {
      "cell_type": "code",
      "execution_count": 10,
      "metadata": {
        "id": "-QIy0pLBNfvs"
      },
      "outputs": [],
      "source": [
        "# INICIALMENTE A IDEIA ERA DE SE USAR UM MODELO DE REGRESSÃO LINEAR SIMPLES PARA PREVER PREÇOS FUTUROS\n",
        "# PORÉM, COMO AINDA EXISTEM OUTLIERS QUE PASSARAM A FILTRAGEM, É NECESSÁRIO O USO DE UM MODELO MAIS ROBUSTO QUE NÃO SE DEIXE SER AFETADO POR OUTLIERS\n",
        "# COMO NÃO TENHO TANTA EXPERIÊNCIA COM O USO DE MACHINE LEARNING, IREI CRIAR UM MODELO DE REGRESSÃO RANDOM FOREST POR SER MAIS SIMPLES\n",
        "# ESSE MODELO É MAIS ROBUSTO QUE O MODELO DE REGRESSÃO LINEAR SIMPLES, PORÉM ELE AINDA É FALHO A OUTLIERS\n",
        "# PORTANTO OS RESULTADOS PODEM NÃO SER OS MAIS CONFIÁVEIS, SENDO A NECESSIDADE DE SE UTILIAR UM MODELO COM MAIOR ROBUSTEZ A OUTLIERS COMO O HUBER REGRESSION"
      ]
    },
    {
      "cell_type": "markdown",
      "source": [
        "**MODELO DE REGRESSÃO RANDOM FOREST**\n",
        "\n",
        "---\n",
        "\n"
      ],
      "metadata": {
        "id": "70NkXPn-OD1s"
      }
    },
    {
      "cell_type": "code",
      "source": [
        "import numpy as np\n",
        "import pandas as pd\n",
        "from sklearn.model_selection import train_test_split\n",
        "from sklearn.ensemble import RandomForestRegressor\n",
        "from sklearn.metrics import mean_absolute_error\n",
        "from sklearn.metrics import mean_squared_error, r2_score\n",
        "from sklearn.preprocessing import StandardScaler"
      ],
      "metadata": {
        "id": "vOyM5cRpNkA6"
      },
      "execution_count": 11,
      "outputs": []
    },
    {
      "cell_type": "code",
      "source": [
        "df_filtered_final = pd.read_csv(\"/content/drive/MyDrive/Projetos de Dados/df_price_train.csv\")"
      ],
      "metadata": {
        "id": "ocpm_tp_Nnwj"
      },
      "execution_count": 12,
      "outputs": []
    },
    {
      "cell_type": "code",
      "source": [
        "# Separando as colunas em numéricas e categóricas\n",
        "cols_num = [\"minimo_noites\", \"numero_de_reviews\", \"reviews_por_mes\",\n",
        "            \"calculado_host_listings_count\", \"disponibilidade_365\"]\n",
        "cols_ctg = [\"bairro_group\", \"bairro\", \"room_type\"]\n",
        "\n",
        "# Criando dummies para variáveis categóricas\n",
        "df_encoded = pd.get_dummies(df_filtered_final, columns=cols_ctg, drop_first=True)\n",
        "\n",
        "# Separar x e y\n",
        "x = df_encoded.drop(columns=[\"price\"])\n",
        "y = df_encoded[\"price\"]\n",
        "\n",
        "# Normalizar os dados numéricos\n",
        "scaler = StandardScaler()\n",
        "x[cols_num] = scaler.fit_transform(x[cols_num])"
      ],
      "metadata": {
        "id": "ad_YGsBlNqWi"
      },
      "execution_count": 13,
      "outputs": []
    },
    {
      "cell_type": "code",
      "source": [
        "# Dividir em treino e teste\n",
        "x_train, x_test, y_train, y_test = train_test_split(x, y, test_size=0.2, random_state=42)\n",
        "\n",
        "# Criar e treinar o modelo\n",
        "rf = RandomForestRegressor(n_estimators=100, random_state=42)\n",
        "rf.fit(x_train, y_train)\n",
        "\n",
        "# Fazer previsões no conjunto de teste\n",
        "y_pred = rf.predict(x_test)\n",
        "\n",
        "# Avaliar o modelo\n",
        "mae = mean_absolute_error(y_test, y_pred)\n",
        "mse = mean_squared_error(y_test, y_pred)\n",
        "r2 = r2_score(y_test, y_pred)\n",
        "\n",
        "# Exibindo os resultados\n",
        "print(f\"Erro Absoluto Médio (MAE): {mae:.2f}\")\n",
        "print(f\"Erro quadrático médio (MSE): {mse:.2f}\")\n",
        "print(f\"Coeficiente de determinação (R²): {r2:.2f}\")"
      ],
      "metadata": {
        "id": "XT8g17xnNsW7",
        "colab": {
          "base_uri": "https://localhost:8080/"
        },
        "outputId": "6f20bf54-4d0e-4b18-aa36-efeb46b3b2b3"
      },
      "execution_count": 14,
      "outputs": [
        {
          "output_type": "stream",
          "name": "stdout",
          "text": [
            "Erro Absoluto Médio (MAE): 31.53\n",
            "Erro quadrático médio (MSE): 1878.10\n",
            "Coeficiente de determinação (R²): 0.55\n"
          ]
        }
      ]
    },
    {
      "cell_type": "markdown",
      "source": [
        "**TESTE 1**\n",
        "\n",
        "---\n",
        "\n"
      ],
      "metadata": {
        "id": "V0BO4ws8Qeka"
      }
    },
    {
      "cell_type": "code",
      "source": [
        "# Criando um DataFrame com os dados do novo imóvel\n",
        "new_house_price = pd.DataFrame([{\n",
        "    \"bairro_group\": \"Manhattan\",\n",
        "    \"bairro\": \"Midtown\",\n",
        "    \"room_type\": \"Entire home/apt\",\n",
        "    \"minimo_noites\": 1,\n",
        "    \"numero_de_reviews\": 45,\n",
        "    \"reviews_por_mes\": 0.38,\n",
        "    \"calculado_host_listings_count\": 2,\n",
        "    \"disponibilidade_365\": 355\n",
        "}])\n",
        "\n",
        "# Aplicando o mesmo pré-processamento (One-Hot Encoding)\n",
        "new_house_price = pd.get_dummies(new_house_price)\n",
        "new_house_price = new_house_price.reindex(columns=x.columns, fill_value=0)\n",
        "\n",
        "# Fazer a previsão\n",
        "preco_estimado = rf.predict(new_house_price)[0]\n",
        "print(f\"Preço estimado: ${preco_estimado:.2f}\")"
      ],
      "metadata": {
        "id": "CY4mlof_NuRT",
        "colab": {
          "base_uri": "https://localhost:8080/"
        },
        "outputId": "558489cc-89e8-4054-f52e-ec196ccac6a7"
      },
      "execution_count": 15,
      "outputs": [
        {
          "output_type": "stream",
          "name": "stdout",
          "text": [
            "Preço estimado: $190.18\n"
          ]
        }
      ]
    },
    {
      "cell_type": "markdown",
      "source": [
        "**IMPORTANDO NO FORMATO PICKLE (.pkl)**\n",
        "\n",
        "---\n",
        "\n"
      ],
      "metadata": {
        "id": "onhPEXtnQnVP"
      }
    },
    {
      "cell_type": "code",
      "source": [
        "import pickle\n",
        "\n",
        "# Supondo que o modelo rf já foi treinado\n",
        "with open(\"random_forest_model.pkl\", \"wb\") as file:\n",
        "    pickle.dump(rf, file)\n",
        "\n",
        "print(\"Modelo salvo como 'random_forest_model.pkl'.\")"
      ],
      "metadata": {
        "colab": {
          "base_uri": "https://localhost:8080/"
        },
        "id": "AtZWx2H7ZAk8",
        "outputId": "4be90515-cb73-4826-eb1e-83c1e5cfee33"
      },
      "execution_count": 16,
      "outputs": [
        {
          "output_type": "stream",
          "name": "stdout",
          "text": [
            "Modelo salvo como 'random_forest_model.pkl'.\n"
          ]
        }
      ]
    },
    {
      "cell_type": "code",
      "source": [
        "import os\n",
        "\n",
        "# Listar arquivos no diretório atual\n",
        "os.listdir()"
      ],
      "metadata": {
        "colab": {
          "base_uri": "https://localhost:8080/"
        },
        "id": "mTycRn-tZ6nl",
        "outputId": "c73a1626-10f4-48a7-96fe-d9341573374e"
      },
      "execution_count": 17,
      "outputs": [
        {
          "output_type": "execute_result",
          "data": {
            "text/plain": [
              "['.config', 'random_forest_model.pkl', 'drive', 'sample_data']"
            ]
          },
          "metadata": {},
          "execution_count": 17
        }
      ]
    },
    {
      "cell_type": "code",
      "source": [
        "from google.colab import files\n",
        "\n",
        "# Baixar um arquivo específico\n",
        "files.download(\"random_forest_model.pkl\")"
      ],
      "metadata": {
        "colab": {
          "base_uri": "https://localhost:8080/",
          "height": 34
        },
        "id": "a9Ys1LFkbUYF",
        "outputId": "100deb07-6120-4f60-ac90-29e8342fbbc7"
      },
      "execution_count": 18,
      "outputs": [
        {
          "output_type": "display_data",
          "data": {
            "text/plain": [
              "<IPython.core.display.Javascript object>"
            ],
            "application/javascript": [
              "\n",
              "    async function download(id, filename, size) {\n",
              "      if (!google.colab.kernel.accessAllowed) {\n",
              "        return;\n",
              "      }\n",
              "      const div = document.createElement('div');\n",
              "      const label = document.createElement('label');\n",
              "      label.textContent = `Downloading \"${filename}\": `;\n",
              "      div.appendChild(label);\n",
              "      const progress = document.createElement('progress');\n",
              "      progress.max = size;\n",
              "      div.appendChild(progress);\n",
              "      document.body.appendChild(div);\n",
              "\n",
              "      const buffers = [];\n",
              "      let downloaded = 0;\n",
              "\n",
              "      const channel = await google.colab.kernel.comms.open(id);\n",
              "      // Send a message to notify the kernel that we're ready.\n",
              "      channel.send({})\n",
              "\n",
              "      for await (const message of channel.messages) {\n",
              "        // Send a message to notify the kernel that we're ready.\n",
              "        channel.send({})\n",
              "        if (message.buffers) {\n",
              "          for (const buffer of message.buffers) {\n",
              "            buffers.push(buffer);\n",
              "            downloaded += buffer.byteLength;\n",
              "            progress.value = downloaded;\n",
              "          }\n",
              "        }\n",
              "      }\n",
              "      const blob = new Blob(buffers, {type: 'application/binary'});\n",
              "      const a = document.createElement('a');\n",
              "      a.href = window.URL.createObjectURL(blob);\n",
              "      a.download = filename;\n",
              "      div.appendChild(a);\n",
              "      a.click();\n",
              "      div.remove();\n",
              "    }\n",
              "  "
            ]
          },
          "metadata": {}
        },
        {
          "output_type": "display_data",
          "data": {
            "text/plain": [
              "<IPython.core.display.Javascript object>"
            ],
            "application/javascript": [
              "download(\"download_81f50090-156c-41a8-9579-f117a650ca98\", \"random_forest_model.pkl\", 32200743)"
            ]
          },
          "metadata": {}
        }
      ]
    }
  ]
}