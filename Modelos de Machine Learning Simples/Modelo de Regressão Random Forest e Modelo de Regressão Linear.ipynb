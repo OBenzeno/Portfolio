{
  "nbformat": 4,
  "nbformat_minor": 0,
  "metadata": {
    "colab": {
      "provenance": []
    },
    "kernelspec": {
      "name": "python3",
      "display_name": "Python 3"
    },
    "language_info": {
      "name": "python"
    }
  },
  "cells": [
    {
      "cell_type": "code",
      "execution_count": null,
      "metadata": {
        "id": "-QIy0pLBNfvs"
      },
      "outputs": [],
      "source": [
        "# INICIALMENTE A IDEIA ERA DE SE USAR UM MODELO DE REGRESSÃO LINEAR SIMPLES PARA PREVER PREÇOS FUTUROS\n",
        "# PORÉM, COMO AINDA EXISTEM OUTLIERS QUE PASSARAM A FILTRAGEM, É NECESSÁRIO O USO DE UM MODELO MAIS ROBUSTO QUE NÃO SE DEIXE SER AFETADO POR OUTLIERS\n",
        "# COMO NÃO TENHO TANTA EXPERIÊNCIA COM O USO DE MACHINE LEARNING, IREI CRIAR UM MODELO DE REGRESSÃO RANDOM FOREST\n",
        "# ESSE MODELO É MAIS ROBUSTO QUE O MODELO DE REGRESSÃO LINEAR SIMPLES, PORÉM ELE AINDA É FALHO A OUTLIERS\n",
        "# PORTANTO OS RESULTADOS PODEM NÃO SER OS MAIS CONFIÁVEIS, SENDO A NECESSIDADE DE SE UTILIAR UM MODELO COM MAIOR ROBUSTEZ A OUTLIERS COMO O HUBER REGRESSION"
      ]
    },
    {
      "cell_type": "markdown",
      "source": [
        "**MODELO DE REGRESSÃO RANDOM FOREST**\n",
        "\n",
        "---\n",
        "\n"
      ],
      "metadata": {
        "id": "70NkXPn-OD1s"
      }
    },
    {
      "cell_type": "code",
      "source": [
        "import numpy as np\n",
        "import pandas as pd\n",
        "from sklearn.model_selection import train_test_split\n",
        "from sklearn.ensemble import RandomForestRegressor\n",
        "from sklearn.metrics import mean_absolute_error\n",
        "from sklearn.metrics import mean_squared_error, r2_score\n",
        "from sklearn.preprocessing import StandardScaler"
      ],
      "metadata": {
        "id": "vOyM5cRpNkA6"
      },
      "execution_count": null,
      "outputs": []
    },
    {
      "cell_type": "code",
      "source": [
        "df_filtered_final = pd.read_csv(\"df_price_train.csv\")"
      ],
      "metadata": {
        "id": "ocpm_tp_Nnwj"
      },
      "execution_count": null,
      "outputs": []
    },
    {
      "cell_type": "code",
      "source": [
        "# Separando as colunas em numéricas e categóricas\n",
        "cols_num = [\"minimo_noites\", \"numero_de_reviews\", \"reviews_por_mes\",\n",
        "            \"calculado_host_listings_count\", \"disponibilidade_365\"]\n",
        "cols_ctg = [\"bairro_group\", \"bairro\", \"room_type\"]\n",
        "\n",
        "# Criando dummies para variáveis categóricas\n",
        "df_encoded = pd.get_dummies(df_filtered_final, columns=cols_ctg, drop_first=True)\n",
        "\n",
        "# Separar x e y\n",
        "x = df_encoded.drop(columns=[\"price\"])\n",
        "y = df_encoded[\"price\"]\n",
        "\n",
        "# Normalizar os dados numéricos\n",
        "scaler = StandardScaler()\n",
        "x[cols_num] = scaler.fit_transform(x[cols_num])"
      ],
      "metadata": {
        "id": "ad_YGsBlNqWi"
      },
      "execution_count": null,
      "outputs": []
    },
    {
      "cell_type": "code",
      "source": [
        "# Dividir em treino e teste\n",
        "x_train, x_test, y_train, y_test = train_test_split(x, y, test_size=0.2, random_state=42)\n",
        "\n",
        "# Criar e treinar o modelo\n",
        "rf = RandomForestRegressor(n_estimators=100, random_state=42)\n",
        "rf.fit(x_train, y_train)\n",
        "\n",
        "# Fazer previsões no conjunto de teste\n",
        "y_pred = rf.predict(x_test)\n",
        "\n",
        "# Avaliar o modelo\n",
        "mae = mean_absolute_error(y_test, y_pred)\n",
        "mse = mean_squared_error(y_test, y_pred)\n",
        "r2 = r2_score(y_test, y_pred)\n",
        "\n",
        "# Exibindo os resultados\n",
        "print(f\"Erro Absoluto Médio (MAE): {mae:.2f}\")\n",
        "print(f\"Erro quadrático médio (MSE): {mse:.2f}\")\n",
        "print(f\"Coeficiente de determinação (R²): {r2:.2f}\")"
      ],
      "metadata": {
        "id": "XT8g17xnNsW7"
      },
      "execution_count": null,
      "outputs": []
    },
    {
      "cell_type": "code",
      "source": [
        "# Criando um DataFrame com os dados do novo imóvel\n",
        "new_house_price = pd.DataFrame([{\n",
        "    \"bairro_group\": \"Manhattan\",\n",
        "    \"bairro\": \"Midtown\",\n",
        "    \"room_type\": \"Entire home/apt\",\n",
        "    \"minimo_noites\": 1,\n",
        "    \"numero_de_reviews\": 45,\n",
        "    \"reviews_por_mes\": 0.38,\n",
        "    \"calculado_host_listings_count\": 2,\n",
        "    \"disponibilidade_365\": 355\n",
        "}])\n",
        "\n",
        "# Aplicando o mesmo pré-processamento (One-Hot Encoding)\n",
        "new_house_price = pd.get_dummies(new_house_price)\n",
        "new_house_price = new_house_price.reindex(columns=x.columns, fill_value=0)\n",
        "\n",
        "# Fazer a previsão\n",
        "preco_estimado = rf.predict(new_house_price)[0]\n",
        "print(f\"Preço estimado: ${preco_estimado:.2f}\")"
      ],
      "metadata": {
        "id": "CY4mlof_NuRT"
      },
      "execution_count": null,
      "outputs": []
    },
    {
      "cell_type": "markdown",
      "source": [
        "**MODELO DE REGRESSÃO LINEAR SIMPLES PARA COMPARAÇÃO**\n",
        "\n",
        "---\n",
        "\n"
      ],
      "metadata": {
        "id": "fbnL62wIN75E"
      }
    },
    {
      "cell_type": "code",
      "source": [
        "import numpy as np\n",
        "import pandas as pd\n",
        "from sklearn.model_selection import train_test_split\n",
        "from sklearn.linear_model import LinearRegression\n",
        "from sklearn.metrics import mean_absolute_error, mean_squared_error, r2_score\n",
        "from sklearn.preprocessing import StandardScaler"
      ],
      "metadata": {
        "id": "bW65EAsuN8wz"
      },
      "execution_count": null,
      "outputs": []
    },
    {
      "cell_type": "code",
      "source": [
        "# Separando as colunas em numéricas e categóricas\n",
        "cols_num = [\"minimo_noites\", \"numero_de_reviews\", \"reviews_por_mes\",\n",
        "            \"calculado_host_listings_count\", \"disponibilidade_365\"]\n",
        "cols_ctg = [\"bairro_group\", \"bairro\", \"room_type\"]\n",
        "\n",
        "# Criando dummies para variáveis categóricas\n",
        "df_encoded = pd.get_dummies(df_filtered_final, columns=cols_ctg, drop_first=True)\n",
        "\n",
        "# Separar x e y\n",
        "x = df_encoded.drop(columns=[\"price\"])\n",
        "y = df_encoded[\"price\"]\n",
        "\n",
        "# Normalizar os dados numéricos\n",
        "scaler = StandardScaler()\n",
        "x[cols_num] = scaler.fit_transform(x[cols_num])"
      ],
      "metadata": {
        "id": "7qPsFHfYOSLy"
      },
      "execution_count": null,
      "outputs": []
    },
    {
      "cell_type": "code",
      "source": [
        "# Dividir em treino e teste\n",
        "x_train, x_test, y_train, y_test = train_test_split(x, y, test_size=0.2, random_state=42)\n",
        "\n",
        "# Criar e treinar o modelo de Regressão Linear\n",
        "lr = LinearRegression()\n",
        "lr.fit(x_train, y_train)\n",
        "\n",
        "# Fazer previsões no conjunto de teste\n",
        "y_pred = lr.predict(x_test)\n",
        "\n",
        "# Avaliar o modelo\n",
        "mae = mean_absolute_error(y_test, y_pred)\n",
        "mse = mean_squared_error(y_test, y_pred)\n",
        "r2 = r2_score(y_test, y_pred)\n",
        "\n",
        "# Exibindo os resultados\n",
        "print(f\"Erro Absoluto Médio (MAE): {mae:.2f}\")\n",
        "print(f\"Erro quadrático médio (MSE): {mse:.2f}\")\n",
        "print(f\"Coeficiente de determinação (R²): {r2:.2f}\")"
      ],
      "metadata": {
        "id": "ejeOOJ0yOUQb"
      },
      "execution_count": null,
      "outputs": []
    },
    {
      "cell_type": "code",
      "source": [
        "# Criando um DataFrame com os dados do novo imóvel\n",
        "new_house_price = pd.DataFrame([{\n",
        "    \"bairro_group\": \"Manhattan\",\n",
        "    \"bairro\": \"Midtown\",\n",
        "    \"room_type\": \"Entire home/apt\",\n",
        "    \"minimo_noites\": 1,\n",
        "    \"numero_de_reviews\": 45,\n",
        "    \"reviews_por_mes\": 0.38,\n",
        "    \"calculado_host_listings_count\": 2,\n",
        "    \"disponibilidade_365\": 355\n",
        "}])\n",
        "\n",
        "# Aplicando o mesmo pré-processamento (One-Hot Encoding)\n",
        "new_house_price = pd.get_dummies(new_house_price)\n",
        "new_house_price = new_house_price.reindex(columns=x.columns, fill_value=0)\n",
        "\n",
        "# Normalizar as variáveis numéricas (usando o mesmo scaler do treino)\n",
        "new_house_price[cols_num] = scaler.transform(new_house_price[cols_num])\n",
        "\n",
        "# Fazer a previsão usando o modelo de Regressão Linear\n",
        "preco_estimado = lr.predict(new_house_price)[0]\n",
        "print(f\"Preço estimado: ${preco_estimado:.2f}\")"
      ],
      "metadata": {
        "id": "8ue1dzdnOVxb"
      },
      "execution_count": null,
      "outputs": []
    },
    {
      "cell_type": "markdown",
      "source": [
        "**CONCLUSÃO DOS TESTES**\n",
        "\n",
        "---\n",
        "\n"
      ],
      "metadata": {
        "id": "b9CxaKgqOZg6"
      }
    },
    {
      "cell_type": "code",
      "source": [
        "# MESMO QUE O DATAFRAME AINDA POSSUA OUTLIERS QUE ALTEREM O RESULTADO FINAL DA PREVISÃO\n",
        "# É POSSÍVEL VER QUE O MODELO RANDOM FOREST POSSUI MAIS ROBUSTES AOS OUTLIERS SE COMPARADO AO MODELO DE REGRESSÃO LINEAR MAIS SIMPLES"
      ],
      "metadata": {
        "id": "67k2WqFFOZ4M"
      },
      "execution_count": null,
      "outputs": []
    }
  ]
}